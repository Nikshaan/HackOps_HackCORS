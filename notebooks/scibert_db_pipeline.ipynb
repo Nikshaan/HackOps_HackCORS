{
 "cells": [
  {
   "cell_type": "code",
   "execution_count": null,
   "id": "e41f0833",
   "metadata": {
    "vscode": {
     "languageId": "plaintext"
    }
   },
   "outputs": [],
   "source": []
  }
 ],
 "metadata": {
  "language_info": {
   "name": "python"
  }
 },
 "nbformat": 4,
 "nbformat_minor": 5
}
